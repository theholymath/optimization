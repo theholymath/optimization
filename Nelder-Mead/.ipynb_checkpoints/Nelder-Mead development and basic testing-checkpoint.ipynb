{
 "cells": [
  {
   "cell_type": "code",
   "execution_count": 56,
   "metadata": {},
   "outputs": [],
   "source": [
    "import math\n",
    "import copy\n",
    "import numpy as np\n",
    "import pandas as pd\n",
    "import time\n",
    "from operator import itemgetter\n",
    "from scipy import optimize\n",
    "\n",
    "import matplotlib.pyplot as plt\n",
    "from pylab import meshgrid,cm,imshow,contour,clabel,colorbar,axis,title,show\n",
    "import seaborn\n",
    "\n",
    "%matplotlib inline"
   ]
  },
  {
   "cell_type": "code",
   "execution_count": null,
   "metadata": {
    "collapsed": true
   },
   "outputs": [],
   "source": []
  },
  {
   "cell_type": "markdown",
   "metadata": {},
   "source": [
    "# Basic implementation of Nelder-Mead. "
   ]
  },
  {
   "cell_type": "code",
   "execution_count": 61,
   "metadata": {
    "collapsed": true
   },
   "outputs": [],
   "source": [
    "# Original Paper: http://www.ime.unicamp.br/~sandra/MT853/handouts/Ref3(NelderMead1965).pdf\n",
    "# Implemented from: http://www.webpages.uidaho.edu/~fuchang/res/ANMS.pdf\n",
    "# and borrowed a few things from scipy\n",
    "def Nelder_Mead(x0,func,\n",
    "                step_size = 0.1,max_iterations=470,\n",
    "                tol = 10e-6,no_improve_break=20):\n",
    "    \n",
    "    alpha = 1.0 # reflection\n",
    "    beta  = 2.0 # contraction\n",
    "    gamma = 0.5 # expansion\n",
    "    \n",
    "    N       = len(x0)\n",
    "    x0      = np.asfarray(x0) # make sure it's float\n",
    "    best    = func(x0)\n",
    "    simplex = np.asfarray(np.append(x0,best))\n",
    "\n",
    "    # for adaptive NM use\n",
    "    # only use for large N\n",
    "    if N > 15:\n",
    "        alpha = 1.0\n",
    "        beta  = 1.0 + 2.0/float(N)\n",
    "        gamma = 0.75 - 1.0/(2.0*float(N))\n",
    "        delta = 1.0 - 1.0/float(N)\n",
    "    \n",
    "    # build initial simplex\n",
    "    for i in range(int(N)):\n",
    "        x = np.array(x0, copy=True)\n",
    "        if x[i] != 0:\n",
    "            x[i] = (1 + 0.05)*x[i] # from scipy\n",
    "        else:\n",
    "            x[i] = 0.00025\n",
    "        simplex = np.concatenate((simplex,np.append(x,func(x))))\n",
    "    simplex = simplex.reshape(int(len(simplex)/(N+1)),(N+1))\n",
    "    simplex = simplex[simplex[:,N].argsort()] # ascending\n",
    "\n",
    "\n",
    "    no_improve = 0\n",
    "    iterations = 0\n",
    "    while True:\n",
    "        # sort vertices by function value\n",
    "        simplex = simplex[simplex[:,N].argsort()] # ascending\n",
    "        min_value = simplex[0,-1]\n",
    "        \n",
    "        if iterations >= max_iterations and max_iterations >= max_iterations:\n",
    "            print(\"hit max iterations\")\n",
    "            return simplex[0,:]\n",
    "            \n",
    "        iterations += 1\n",
    "        \n",
    "        # break after no_improv_break iterations with no improvement\n",
    "        #print('...best so far:', min_value)\n",
    "\n",
    "        if min_value < best - tol:\n",
    "            no_improve = 0\n",
    "            best = min_value\n",
    "        else:\n",
    "            no_improve += 1\n",
    "\n",
    "        if no_improve >= no_improve_break:\n",
    "            #print(\"Converged\")\n",
    "            return simplex[0,:]\n",
    "        \n",
    "        centroid = np.array([np.sum(simplex[:-1,i])/N for i in range(N)])\n",
    "        \n",
    "        # relection\n",
    "        x_reflection = (1 + alpha)*centroid - alpha*simplex[-1,:-1]\n",
    "        y_reflection = func(x_reflection)\n",
    "        execute_shrink = 0\n",
    "        \n",
    "        # expansion\n",
    "        if y_reflection < simplex[0,-1]:\n",
    "            x_expansion = (1 + beta)*centroid - beta*simplex[-1,:-1]\n",
    "            y_expansion = func(x_expansion)\n",
    "\n",
    "            if y_expansion < y_reflection: # mistake in NL original paper at this step\n",
    "                simplex[-1,:] = np.append(x_expansion,y_expansion)\n",
    "                continue\n",
    "            else:    \n",
    "                simplex[-1,:] = np.append(x_reflection,y_reflection)\n",
    "                continue\n",
    "        \n",
    "        else: # refelection is bigger than current min\n",
    "            if  y_reflection < simplex[-2,-1]: # different than original paper\n",
    "                simplex[-1,:] = np.append(x_reflection,y_reflection)\n",
    "                continue\n",
    "            else: # reflection is bigger than simplex[-2,-1]\n",
    "                # contraction\n",
    "                if y_reflection < simplex[-1,-1]:\n",
    "                    x_contraction_o = -gamma*simplex[-1,:-1] + (1 + gamma)*centroid\n",
    "                    y_contraction_o = func(x_contraction_o)\n",
    "                    \n",
    "                    if y_contraction_o <= y_reflection:\n",
    "                        simplex[-1,:] = np.append(x_contraction_o,y_contraction_o)\n",
    "                        continue\n",
    "                    else:\n",
    "                        execute_shrink = 1\n",
    "                else:\n",
    "                    x_contraction_i = gamma*simplex[-1,:-1] + (1 - gamma)*centroid\n",
    "                    y_contraction_i = func(x_contraction_i)\n",
    "                    \n",
    "                    if y_contraction_i < simplex[-1,-1]:\n",
    "                        simplex[-1,:] = np.append(x_contraction_i,y_contraction_i)\n",
    "                        continue\n",
    "                    else:\n",
    "                        execute_shrink = 1\n",
    "                    \n",
    "                    if execute_shrink:\n",
    "                        # shrink\n",
    "                        low_vertex  = simplex[0,:-1]\n",
    "                        new_simplex = np.zeros((N+1,N+1))\n",
    "                        \n",
    "                        for i,row in enumerate(simplex[:,:-1]):\n",
    "                            x_new = low_vertex + (row - low_vertex)/2.0\n",
    "                            y_new = func(x_new)\n",
    "                            new_simplex[i,:] = np.asarray(np.append(x_new,y_new)) # maybe overwriting in loop....\n",
    "                        simplex = new_simplex\n",
    "                        simplex = simplex[simplex[:,N].argsort()]\n",
    "                        continue\n"
   ]
  },
  {
   "cell_type": "code",
   "execution_count": 92,
   "metadata": {
    "collapsed": true
   },
   "outputs": [],
   "source": [
    "def func(x):\n",
    "    return math.sin(x[0]) * math.cos(x[1]) * (1. / (abs(x[2]) + 1)) + 1.0\n",
    "\n",
    "# The Rosenbrock function\n",
    "def Rosen(x):\n",
    "    x = np.asarray(x)\n",
    "    r = np.sum(100.0 * (x[1:] - x[:-1]**2.0)**2.0 + (1 - x[:-1])**2.0,\n",
    "                  axis=0)\n",
    "    return r"
   ]
  },
  {
   "cell_type": "code",
   "execution_count": 93,
   "metadata": {},
   "outputs": [],
   "source": [
    "func_to_test = func"
   ]
  },
  {
   "cell_type": "code",
   "execution_count": 94,
   "metadata": {},
   "outputs": [
    {
     "name": "stdout",
     "output_type": "stream",
     "text": [
      "Native code: min =  1.36340079799e-05 at  [ -1.57493116e+00   3.17536909e-03   4.41492390e-08]\n",
      "taking  0.0059239864349365234\n",
      "\n",
      "Scipy: min =  7.49733608529e-13 at  [ -1.57079530e+00  -5.96649152e-07  -4.56731877e-14]\n",
      "taking  0.009834051132202148\n",
      "\n",
      "with a function value difference of 1.36340072302e-05\n",
      "\n",
      "and a point differnce of 0.00521460549445\n"
     ]
    }
   ],
   "source": [
    "x0 = [-1.2,2.0,3.0]\n",
    "startTime = time.time()\n",
    "results_NM = Nelder_Mead(x0,func_to_test)\n",
    "elapsedTime = time.time() - startTime\n",
    "print(\"Native code: min = \",results_NM[-1],\"at \",results_NM[:-1])\n",
    "print(\"taking \",elapsedTime)\n",
    "\n",
    "method = 'Nelder-Mead'\n",
    "startTime = time.time()\n",
    "result = optimize.minimize(func_to_test, x0, method=method, tol=1e-6)\n",
    "elapsedTime = time.time() - startTime\n",
    "print(\"\\nScipy: min = \",func_to_test(result.x),\"at \",result.x)\n",
    "print(\"taking \",elapsedTime)\n",
    "\n",
    "# compare results\n",
    "print(\"\\nwith a function value difference of\",np.abs(func_to_test(result.x) - results_NM[-1]))\n",
    "print(\"\\nand a point differnce of\",np.linalg.norm(result.x-results_NM[:-1]))"
   ]
  },
  {
   "cell_type": "code",
   "execution_count": null,
   "metadata": {},
   "outputs": [],
   "source": []
  },
  {
   "cell_type": "markdown",
   "metadata": {},
   "source": []
  },
  {
   "cell_type": "code",
   "execution_count": null,
   "metadata": {},
   "outputs": [],
   "source": []
  },
  {
   "cell_type": "code",
   "execution_count": null,
   "metadata": {},
   "outputs": [],
   "source": []
  },
  {
   "cell_type": "code",
   "execution_count": null,
   "metadata": {
    "collapsed": true
   },
   "outputs": [],
   "source": []
  },
  {
   "cell_type": "code",
   "execution_count": null,
   "metadata": {
    "collapsed": true
   },
   "outputs": [],
   "source": []
  },
  {
   "cell_type": "code",
   "execution_count": null,
   "metadata": {
    "collapsed": true
   },
   "outputs": [],
   "source": []
  },
  {
   "cell_type": "code",
   "execution_count": 31,
   "metadata": {
    "collapsed": true
   },
   "outputs": [],
   "source": []
  },
  {
   "cell_type": "code",
   "execution_count": null,
   "metadata": {
    "collapsed": true
   },
   "outputs": [],
   "source": []
  },
  {
   "cell_type": "code",
   "execution_count": null,
   "metadata": {
    "collapsed": true
   },
   "outputs": [],
   "source": []
  },
  {
   "cell_type": "code",
   "execution_count": null,
   "metadata": {
    "collapsed": true
   },
   "outputs": [],
   "source": []
  },
  {
   "cell_type": "code",
   "execution_count": null,
   "metadata": {
    "collapsed": true
   },
   "outputs": [],
   "source": []
  },
  {
   "cell_type": "code",
   "execution_count": null,
   "metadata": {
    "collapsed": true
   },
   "outputs": [],
   "source": []
  },
  {
   "cell_type": "code",
   "execution_count": null,
   "metadata": {
    "collapsed": true
   },
   "outputs": [],
   "source": []
  },
  {
   "cell_type": "code",
   "execution_count": null,
   "metadata": {
    "collapsed": true
   },
   "outputs": [],
   "source": []
  },
  {
   "cell_type": "code",
   "execution_count": null,
   "metadata": {
    "collapsed": true
   },
   "outputs": [],
   "source": []
  },
  {
   "cell_type": "code",
   "execution_count": null,
   "metadata": {
    "collapsed": true
   },
   "outputs": [],
   "source": []
  },
  {
   "cell_type": "code",
   "execution_count": null,
   "metadata": {
    "collapsed": true
   },
   "outputs": [],
   "source": []
  }
 ],
 "metadata": {
  "anaconda-cloud": {},
  "kernelspec": {
   "display_name": "Python [conda root]",
   "language": "python",
   "name": "conda-root-py"
  },
  "language_info": {
   "codemirror_mode": {
    "name": "ipython",
    "version": 3
   },
   "file_extension": ".py",
   "mimetype": "text/x-python",
   "name": "python",
   "nbconvert_exporter": "python",
   "pygments_lexer": "ipython3",
   "version": "3.5.0rc4"
  }
 },
 "nbformat": 4,
 "nbformat_minor": 2
}
