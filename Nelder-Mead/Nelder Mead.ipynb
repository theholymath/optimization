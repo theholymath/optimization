{
 "cells": [
  {
   "cell_type": "code",
   "execution_count": 1,
   "metadata": {
    "collapsed": true
   },
   "outputs": [],
   "source": [
    "import math\n",
    "import copy\n",
    "import numpy as np\n",
    "import pandas as pd\n",
    "from operator import itemgetter\n",
    "from scipy import optimize\n",
    "\n",
    "import matplotlib.pyplot as plt\n",
    "from pylab import meshgrid,cm,imshow,contour,clabel,colorbar,axis,title,show\n",
    "%matplotlib inline"
   ]
  },
  {
   "cell_type": "markdown",
   "metadata": {},
   "source": [
    "# Basic implementation of Nelder-Mead. "
   ]
  },
  {
   "cell_type": "code",
   "execution_count": 148,
   "metadata": {
    "collapsed": true
   },
   "outputs": [],
   "source": [
    "# Original Paper: http://www.ime.unicamp.br/~sandra/MT853/handouts/Ref3(NelderMead1965).pdf\n",
    "# Implemented from: http://www.webpages.uidaho.edu/~fuchang/res/ANMS.pdf\n",
    "def Nelder_Mead(x0,func,\n",
    "                step_size = 0.1,max_iterations=20,\n",
    "                tol = 10e-6,no_improve_break=20):\n",
    "    \n",
    "    alpha = 1.0 # reflection\n",
    "    beta  = 2.0 # contraction\n",
    "    gamma = 0.5 # expansion\n",
    "    \n",
    "    N       = len(x0)\n",
    "    x0      = np.array(x0)\n",
    "    best    = func(x0)\n",
    "    simplex = np.asarray(np.append(x0,best))\n",
    "\n",
    "    no_improve    = 0\n",
    "\n",
    "    # for adaptive NM we use\n",
    "    #alpha = 1.0\n",
    "    #beta  = 1.0 + 2.0/float(N)\n",
    "    #gamma = 0.75 - 1.0/(2.0*float(N))\n",
    "    #delta = 1.0 - 1.0/(float(N))\n",
    "    \n",
    "    # build initial simplex\n",
    "    for i in range(N):\n",
    "        x = np.array(x0, copy=True)\n",
    "        if x[i] != 0:\n",
    "            x[i] = (1 + step_size)*x[i] # from scipy\n",
    "        else:\n",
    "            x[i] = 0.00025\n",
    "        simplex = np.concatenate((simplex,np.append(x,func(x))))\n",
    "    simplex = simplex.reshape(int(len(simplex)/(N+1)),(N+1))\n",
    "    simplex = simplex[simplex[:,N].argsort()] # ascending\n",
    "\n",
    "\n",
    "    \n",
    "    iterations = 0\n",
    "    while True:\n",
    "        # sort vertices by function value\n",
    "        simplex = simplex[simplex[:,N].argsort()] # ascending\n",
    "        min_value = simplex[0,-1]\n",
    "        \n",
    "        if iterations >= max_iterations and max_iterations >= max_iterations:\n",
    "            return simplex[0,:]\n",
    "        iterations += 1\n",
    "        \n",
    "        # break after no_improv_break iterations with no improvement\n",
    "        print('...best so far:', min_value)\n",
    "\n",
    "        if min_value < best - tol:\n",
    "            no_improv = 0\n",
    "            best = min_value\n",
    "        else:\n",
    "            no_improve += 1\n",
    "\n",
    "        if no_improve >= no_improve_break:\n",
    "            return simplex[0,:]\n",
    "        \n",
    "        centroid = np.array([np.sum(simplex[:-1,i]) for i in range(N)])\n",
    "        \n",
    "        # relection\n",
    "        x_reflection = (1 + alpha)*centroid - alpha*simplex[-1,:-1]\n",
    "        y_reflection = func(x_reflection)\n",
    "        execute_shrink = 0\n",
    "        \n",
    "        # expansion\n",
    "        if y_reflection < simplex[0,-1]:\n",
    "            x_expansion = (1 + beta)*centroid - beta*simplex[-1,:-1]\n",
    "            y_expansion = func(x_expansion)\n",
    "            print(\"expansion\")\n",
    "\n",
    "            if y_expansion < y_reflection: # mistake in NL original paper at this step\n",
    "                simplex[-1,:] = np.append(x_expansion,y_expansion)\n",
    "                continue\n",
    "            else:    \n",
    "                simplex[-1,:] = np.append(x_reflection,y_reflection)\n",
    "                continue\n",
    "        \n",
    "        else: # refelection is bigger than current min\n",
    "            if  y_reflection < simplex[-2,-1]: # different than original paper\n",
    "                print(\"reflection\")\n",
    "                simplex[-1,:] = np.append(x_reflection,y_reflection)\n",
    "                continue\n",
    "            else: # reflection is bigger than simplex[-2,-1]\n",
    "                # contraction\n",
    "                if y_reflection < simplex[-1,-1]:\n",
    "                    print(\"outside contraction\")\n",
    "                    x_contraction_o = -gamma*simplex[-1,:-1] + (1 + gamma)*centroid\n",
    "                    y_contraction_o = func(x_contraction_o)\n",
    "                    \n",
    "                    if y_contraction_o <= y_reflection:\n",
    "                        simplex[-1,:] = np.append(x_contraction_o,y_contraction_o)\n",
    "                        continue\n",
    "                    else:\n",
    "                        execute_shrink = 1\n",
    "                else:\n",
    "                    print(\"inside contraction\")\n",
    "                    x_contraction_i = gamma*simplex[-1,:-1] + (1 - gamma)*centroid\n",
    "                    y_contraction_i = func(x_contraction_i)\n",
    "                    \n",
    "                    if y_contraction_i < simplex[-1,-1]:\n",
    "                        simplex[-1,:] = np.append(x_contraction_i,y_contraction_i)\n",
    "                        continue\n",
    "                    else:\n",
    "                        execute_shrink = 1\n",
    "                    \n",
    "                    if execute_shrink:\n",
    "                        # shrink\n",
    "                        low_vertex  = simplex[0,:-1]\n",
    "                        new_simplex = np.zeros((N+1,N+1))\n",
    "                        \n",
    "                        for i,row in enumerate(simplex[:,:-1]):\n",
    "                            x_new = low_vertex + (row - low_vertex)/2.0\n",
    "                            y_new = func(x_new)\n",
    "                            new_simplex[i,:] = np.asarray(np.append(x_new,y_new)) # maybe overwriting in loop....\n",
    "                        simplex = new_simplex\n",
    "                        simplex = simplex[simplex[:,N].argsort()]\n",
    "                        continue\n"
   ]
  },
  {
   "cell_type": "code",
   "execution_count": 149,
   "metadata": {
    "collapsed": true
   },
   "outputs": [],
   "source": [
    "def func(x):\n",
    "    return math.sin(x[0]) * math.cos(x[1]) * (1. / (abs(x[2]) + 1))\n",
    "def fg(x):\n",
    "    return 1/x[0] + x[1]*x[1] + x[1]*x[2]"
   ]
  },
  {
   "cell_type": "code",
   "execution_count": 150,
   "metadata": {},
   "outputs": [
    {
     "name": "stdout",
     "output_type": "stream",
     "text": [
      "...best so far: 0.0716115618056\n",
      "expansion\n",
      "...best so far: -0.00875917918085\n",
      "reflection\n",
      "...best so far: -0.00875917918085\n",
      "reflection\n",
      "...best so far: -0.00875917918085\n",
      "reflection\n",
      "...best so far: -0.00875917918085\n",
      "outside contraction\n",
      "...best so far: -0.00875917918085\n",
      "outside contraction\n",
      "...best so far: -0.00875917918085\n",
      "outside contraction\n",
      "...best so far: -0.00875917918085\n",
      "outside contraction\n",
      "...best so far: -0.00875917918085\n",
      "outside contraction\n",
      "...best so far: -0.00875917918085\n",
      "outside contraction\n",
      "...best so far: -0.00875917918085\n",
      "outside contraction\n",
      "...best so far: -0.00875917918085\n",
      "outside contraction\n",
      "...best so far: -0.00875917918085\n",
      "outside contraction\n",
      "...best so far: -0.00875917918085\n",
      "outside contraction\n",
      "...best so far: -0.00875917918085\n",
      "outside contraction\n",
      "...best so far: -0.00875917918085\n",
      "outside contraction\n",
      "...best so far: -0.00875917918085\n",
      "outside contraction\n",
      "...best so far: -0.00875917918085\n",
      "outside contraction\n",
      "...best so far: -0.00875917918085\n",
      "outside contraction\n",
      "...best so far: -0.00875917918085\n",
      "outside contraction\n"
     ]
    },
    {
     "data": {
      "text/plain": [
       "array([ -5.88000000e+00,   2.08000000e+01,   1.56000000e+01,\n",
       "        -8.75917918e-03])"
      ]
     },
     "execution_count": 150,
     "metadata": {},
     "output_type": "execute_result"
    }
   ],
   "source": [
    "x0 = [-1.2,4.0,3.0]\n",
    "results = Nelder_Mead(x0,func)\n",
    "results"
   ]
  },
  {
   "cell_type": "code",
   "execution_count": 143,
   "metadata": {},
   "outputs": [
    {
     "name": "stdout",
     "output_type": "stream",
     "text": [
      "Scipy found a min of  -0.999999999999 at  [ -1.57079640e+00  -2.08046050e-07   5.74031399e-13]\n"
     ]
    }
   ],
   "source": [
    "method = 'Nelder-Mead'\n",
    "#start_time = time()\n",
    "result = optimize.minimize(func, x0, method=method, tol=1e-6)\n",
    "print(\"Scipy found a min of \",func(result.x),\"at \",result.x)\n",
    "#end_time = time()"
   ]
  },
  {
   "cell_type": "code",
   "execution_count": 104,
   "metadata": {},
   "outputs": [
    {
     "data": {
      "text/plain": [
       " final_simplex: (array([[ -1.57079651e+00,   1.06000404e-07,  -3.96509483e-13],\n",
       "       [ -1.57079653e+00,   1.35072109e-07,   5.04471128e-13],\n",
       "       [ -1.57079560e+00,  -3.26588866e-07,  -2.55802313e-13],\n",
       "       [ -1.57079597e+00,   4.67627779e-07,  -5.98259979e-13]]), array([-1., -1., -1., -1.]))\n",
       "           fun: -0.99999999999958167\n",
       "       message: 'Optimization terminated successfully.'\n",
       "          nfev: 276\n",
       "           nit: 160\n",
       "        status: 0\n",
       "       success: True\n",
       "             x: array([ -1.57079651e+00,   1.06000404e-07,  -3.96509483e-13])"
      ]
     },
     "execution_count": 104,
     "metadata": {},
     "output_type": "execute_result"
    }
   ],
   "source": [
    "result"
   ]
  },
  {
   "cell_type": "code",
   "execution_count": 794,
   "metadata": {},
   "outputs": [
    {
     "name": "stdout",
     "output_type": "stream",
     "text": [
      "[[ 0.          0.          0.          0.        ]\n",
      " [ 0.08054818  0.          0.          0.08046111]\n",
      " [ 0.          0.09752268  0.          0.        ]\n",
      " [ 0.          0.          0.05567404  0.        ]]\n"
     ]
    },
    {
     "data": {
      "text/plain": [
       "array([ 0.,  0.,  0.])"
      ]
     },
     "execution_count": 794,
     "metadata": {},
     "output_type": "execute_result"
    }
   ],
   "source": []
  },
  {
   "cell_type": "code",
   "execution_count": 782,
   "metadata": {},
   "outputs": [
    {
     "name": "stdout",
     "output_type": "stream",
     "text": [
      "Scipy found a min of  -0.999999999992\n"
     ]
    }
   ],
   "source": []
  },
  {
   "cell_type": "code",
   "execution_count": 751,
   "metadata": {
    "collapsed": true
   },
   "outputs": [],
   "source": [
    "centroid = np.array([np.sum(simplex[:-1,i]) for i in range(dimensions)])\n"
   ]
  },
  {
   "cell_type": "code",
   "execution_count": 783,
   "metadata": {},
   "outputs": [
    {
     "data": {
      "text/plain": [
       "array([ -1.57079402e+00,  -3.10687805e-06,   4.64004670e-13])"
      ]
     },
     "execution_count": 783,
     "metadata": {},
     "output_type": "execute_result"
    }
   ],
   "source": [
    "result.x"
   ]
  },
  {
   "cell_type": "code",
   "execution_count": null,
   "metadata": {
    "collapsed": true
   },
   "outputs": [],
   "source": [
    "    # sanity check to make sure we don't have a degenerate simplex\n",
    "    # not sure this is necessary - check later\n",
    "    bool_func_vals = any(simplex[:,dimensions])\n",
    "    \n",
    "    while not bool_func_vals:\n",
    "        x = copy.copy(x0)\n",
    "        index = np.random.randint(0,dimensions+1)\n",
    "        x[index] = x[index] + step_size*np.random.uniform(-10, 10)\n",
    "        simplex[-1,:] = np.append(x,func(x))\n",
    "        \n",
    "        if any(simplex[:,dimensions]):\n",
    "            break"
   ]
  },
  {
   "cell_type": "code",
   "execution_count": 696,
   "metadata": {},
   "outputs": [
    {
     "data": {
      "text/plain": [
       "[0.080548178084059327, 0.097522684890255423, 0.0]"
      ]
     },
     "execution_count": 696,
     "metadata": {},
     "output_type": "execute_result"
    }
   ],
   "source": [
    "[np.sum(simplex[:-1,i]) for i in range(dimensions)]"
   ]
  },
  {
   "cell_type": "code",
   "execution_count": 31,
   "metadata": {
    "collapsed": true
   },
   "outputs": [],
   "source": [
    "# The Rosenbrock function\n",
    "def Rosen(x):\n",
    "    x = asarray(x)\n",
    "    r = numpy.sum(100.0 * (x[1:] - x[:-1]**2.0)**2.0 + (1 - x[:-1])**2.0,\n",
    "                  axis=0)\n",
    "    return r"
   ]
  },
  {
   "cell_type": "code",
   "execution_count": 130,
   "metadata": {},
   "outputs": [
    {
     "name": "stdout",
     "output_type": "stream",
     "text": [
      "[-1.32  1.    1.  ]\n",
      "[-1.32  1.    1.  ] [-1.32  1.    1.  ]\n",
      "[-1.2  1.   1. ] [-1.26  1.    1.  ]\n",
      "[-1.2  1.   1.1] [-1.26  1.    1.05]\n",
      "[-1.2  1.1  1. ] [-1.26  1.05  1.  ]\n"
     ]
    },
    {
     "data": {
      "text/plain": [
       "array([[-1.32      ,  1.        ,  1.        , -0.2616995 ],\n",
       "       [-1.26      ,  1.        ,  1.        , -0.2572083 ],\n",
       "       [-1.26      ,  1.        ,  1.05      , -0.25093493],\n",
       "       [-1.26      ,  1.05      ,  1.        , -0.23686629]])"
      ]
     },
     "execution_count": 130,
     "metadata": {},
     "output_type": "execute_result"
    }
   ],
   "source": [
    "# shrink\n",
    "low_vertex  = simplex[0,:-1]\n",
    "print(low_vertex)\n",
    "new_simplex = np.zeros((N+1,N+1))\n",
    "for i,row in enumerate(simplex[:,:-1]):\n",
    "    print(row,low_vertex+(row - low_vertex)/2.0)\n",
    "    x_new = low_vertex + (row - low_vertex)/2.0\n",
    "    y_new = func(x_new)\n",
    "    new_simplex[i,:] = np.asarray(np.append(x_new,y_new)) # maybe overwriting in loop....\n",
    "new_simplex"
   ]
  },
  {
   "cell_type": "code",
   "execution_count": 120,
   "metadata": {},
   "outputs": [],
   "source": [
    "alpha = 1.0 # reflection\n",
    "beta  = 2.0 # contraction\n",
    "gamma = 0.5 # expansion\n",
    "\n",
    "N       = len(x0)\n",
    "x0      = np.array(x0)\n",
    "best    = func(x0)\n",
    "simplex = np.asarray(np.append(x0,best))\n",
    "\n",
    "no_improve    = 0\n",
    "\n",
    "# for adaptive NM we use\n",
    "alpha = 1.0\n",
    "beta  = 1.0 + 2.0/float(N)\n",
    "gamma = 0.75 - 1.0/(2.0*float(N))\n",
    "delta = 1.0 - 1.0/(float(N))\n",
    "\n",
    "# build initial simplex\n",
    "for i in range(N):\n",
    "    x = np.array(x0, copy=True)\n",
    "    if x[i] != 0:\n",
    "        x[i] = (1 + 0.1)*x[i] # from scipy\n",
    "    else:\n",
    "        x[i] = 0.00025\n",
    "    simplex = np.concatenate((simplex,np.append(x,func(x))))\n",
    "simplex = simplex.reshape(int(len(simplex)/(N+1)),(N+1))\n",
    "simplex = simplex[simplex[:,N].argsort()] # ascending"
   ]
  },
  {
   "cell_type": "code",
   "execution_count": 121,
   "metadata": {},
   "outputs": [
    {
     "data": {
      "text/plain": [
       "array([[-1.32      ,  1.        ,  1.        , -0.2616995 ],\n",
       "       [-1.2       ,  1.        ,  1.        , -0.25179143],\n",
       "       [-1.2       ,  1.        ,  1.1       , -0.23980137],\n",
       "       [-1.2       ,  1.1       ,  1.        , -0.21138466]])"
      ]
     },
     "execution_count": 121,
     "metadata": {},
     "output_type": "execute_result"
    }
   ],
   "source": [
    "simplex"
   ]
  },
  {
   "cell_type": "code",
   "execution_count": null,
   "metadata": {
    "collapsed": true
   },
   "outputs": [],
   "source": []
  },
  {
   "cell_type": "code",
   "execution_count": null,
   "metadata": {
    "collapsed": true
   },
   "outputs": [],
   "source": []
  },
  {
   "cell_type": "code",
   "execution_count": null,
   "metadata": {
    "collapsed": true
   },
   "outputs": [],
   "source": []
  },
  {
   "cell_type": "code",
   "execution_count": null,
   "metadata": {
    "collapsed": true
   },
   "outputs": [],
   "source": []
  },
  {
   "cell_type": "code",
   "execution_count": null,
   "metadata": {
    "collapsed": true
   },
   "outputs": [],
   "source": []
  },
  {
   "cell_type": "code",
   "execution_count": null,
   "metadata": {
    "collapsed": true
   },
   "outputs": [],
   "source": []
  },
  {
   "cell_type": "code",
   "execution_count": null,
   "metadata": {
    "collapsed": true
   },
   "outputs": [],
   "source": []
  }
 ],
 "metadata": {
  "anaconda-cloud": {},
  "kernelspec": {
   "display_name": "Python [conda root]",
   "language": "python",
   "name": "conda-root-py"
  },
  "language_info": {
   "codemirror_mode": {
    "name": "ipython",
    "version": 3
   },
   "file_extension": ".py",
   "mimetype": "text/x-python",
   "name": "python",
   "nbconvert_exporter": "python",
   "pygments_lexer": "ipython3",
   "version": "3.5.0rc4"
  }
 },
 "nbformat": 4,
 "nbformat_minor": 2
}
