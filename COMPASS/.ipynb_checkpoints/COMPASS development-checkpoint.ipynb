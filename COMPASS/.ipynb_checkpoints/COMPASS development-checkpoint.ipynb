{
 "cells": [
  {
   "cell_type": "code",
   "execution_count": 25,
   "metadata": {
    "collapsed": true
   },
   "outputs": [],
   "source": [
    "import numpy as np\n",
    "import time\n",
    "import math"
   ]
  },
  {
   "cell_type": "code",
   "execution_count": null,
   "metadata": {
    "collapsed": true
   },
   "outputs": [],
   "source": []
  },
  {
   "cell_type": "code",
   "execution_count": 92,
   "metadata": {
    "collapsed": true
   },
   "outputs": [],
   "source": [
    "'''Tamara Kolda, Robert Michael Lewis, Virginia Torczon,\n",
    "    Optimization by Direct Search: New Perspectives on Some Classical and Modern Methods,\n",
    "    SIAM Review,\n",
    "    Volume 45, Number 3, 2003, pages 385-482.\n",
    "'''\n",
    "\n",
    "def COMPASS(func,x0,\n",
    "            step_size = 5.01,max_iterations=4470,\n",
    "            step_size_tol = 10e-4,no_improve_break=20):\n",
    "    \n",
    "    N         = len(x0) #dimension\n",
    "    x         = np.asfarray(x0) # make sure it's float\n",
    "    best      = func(x)\n",
    "    output    = np.asfarray(np.append(x,best))\n",
    "    \n",
    "    if step_size_tol <= 0:\n",
    "        # user is not smart\n",
    "        step_size_tol = step_size/(10.0*float(N))\n",
    "        \n",
    "    if step_size < step_size_tol:\n",
    "        temp = step_size\n",
    "        step_size = step_size_tol\n",
    "        step_size_tol = step_size\n",
    "    \n",
    "    no_improve = 0\n",
    "    iterations = 0\n",
    "    k = 0\n",
    "    while True:\n",
    "        min_value = output[-1]\n",
    "        decrease = 0\n",
    "        \n",
    "        if iterations >= max_iterations and max_iterations >= max_iterations:\n",
    "            print(\"hit max iterations\")\n",
    "            return output\n",
    "            \n",
    "        iterations += 1\n",
    "        \n",
    "        if min_value < best - 10e-6:\n",
    "            no_improve = 0\n",
    "            best = min_value\n",
    "        else:\n",
    "            no_improve += 1\n",
    "\n",
    "        if no_improve >= no_improve_break:\n",
    "            print(\"no improvemtn\")\n",
    "            return output\n",
    "        \n",
    "        # COMPASS Algo search a sigma point array\n",
    "        for i in range(2*int(N)):\n",
    "            index          = int(i/2 + 0.5*((i+1)%2))\n",
    "            x_delta        = np.array(output[:-1], copy=True)\n",
    "            x_delta[index] = x_delta[index] + (-1.0)**(i%2)*step_size\n",
    "            fx             = func(x_delta)\n",
    "            \n",
    "            if fx < output[-1]:\n",
    "                #print(fx)\n",
    "                k += 1\n",
    "                output   = np.append(x_delta,fx)\n",
    "                decrease = 1\n",
    "                break\n",
    "        \n",
    "        if not decrease:\n",
    "            k += 1\n",
    "            print(\"no decrease\")\n",
    "            step_size = step_size/2.0\n",
    "            if step_size < step_size_tol:\n",
    "                continue\n",
    "    print(k)\n",
    "    return output\n",
    "            \n",
    "            \n",
    "            \n"
   ]
  },
  {
   "cell_type": "code",
   "execution_count": 93,
   "metadata": {},
   "outputs": [],
   "source": [
    "def func(x):\n",
    "    return math.sin(x[0]) * math.cos(x[1]) * (1. / (abs(x[2]) + 1)) + 1.0\n",
    "\n",
    "# The Rosenbrock function\n",
    "def Rosen(x):\n",
    "    x = np.asarray(x)\n",
    "    r = np.sum(100.0 * (x[1:] - x[:-1]**2.0)**2.0 + (1 - x[:-1])**2.0,\n",
    "                  axis=0)\n",
    "    return r"
   ]
  },
  {
   "cell_type": "code",
   "execution_count": 94,
   "metadata": {
    "collapsed": true
   },
   "outputs": [],
   "source": [
    "func_to_test = Rosen"
   ]
  },
  {
   "cell_type": "code",
   "execution_count": 95,
   "metadata": {},
   "outputs": [
    {
     "name": "stdout",
     "output_type": "stream",
     "text": [
      "no decrease\n",
      "no decrease\n",
      "no decrease\n",
      "no decrease\n",
      "no decrease\n",
      "no decrease\n",
      "no decrease\n",
      "no decrease\n",
      "no decrease\n",
      "no decrease\n",
      "no decrease\n",
      "no decrease\n",
      "no decrease\n",
      "no decrease\n",
      "no decrease\n",
      "no decrease\n",
      "no decrease\n",
      "no improvemtn\n",
      "Native code: min =  0.000428547833815 at  [ 0.99073471  0.98153526  0.96328049]\n",
      "taking  0.288193941116333\n"
     ]
    }
   ],
   "source": [
    "x0 = [-6.9,0.0,5.5]\n",
    "startTime = time.time()\n",
    "results_C = COMPASS(func_to_test,x0)\n",
    "elapsedTime = time.time() - startTime\n",
    "print(\"Native code: min = \",results_C[-1],\"at \",results_C[:-1])\n",
    "print(\"taking \",elapsedTime)"
   ]
  },
  {
   "cell_type": "code",
   "execution_count": null,
   "metadata": {
    "collapsed": true
   },
   "outputs": [],
   "source": []
  },
  {
   "cell_type": "code",
   "execution_count": null,
   "metadata": {
    "collapsed": true
   },
   "outputs": [],
   "source": []
  }
 ],
 "metadata": {
  "anaconda-cloud": {},
  "kernelspec": {
   "display_name": "Python [conda root]",
   "language": "python",
   "name": "conda-root-py"
  },
  "language_info": {
   "codemirror_mode": {
    "name": "ipython",
    "version": 3
   },
   "file_extension": ".py",
   "mimetype": "text/x-python",
   "name": "python",
   "nbconvert_exporter": "python",
   "pygments_lexer": "ipython3",
   "version": "3.5.0rc4"
  }
 },
 "nbformat": 4,
 "nbformat_minor": 2
}
